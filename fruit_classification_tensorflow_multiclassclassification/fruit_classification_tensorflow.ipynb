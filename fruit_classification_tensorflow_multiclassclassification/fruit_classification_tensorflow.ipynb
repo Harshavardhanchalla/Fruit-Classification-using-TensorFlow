{
 "cells": [
  {
   "cell_type": "code",
   "execution_count": null,
   "metadata": {
    "colab": {
     "base_uri": "https://localhost:8080/"
    },
    "executionInfo": {
     "elapsed": 3678,
     "status": "ok",
     "timestamp": 1718426081913,
     "user": {
      "displayName": "Harsha Vardhan Challa",
      "userId": "10646618994917485248"
     },
     "user_tz": -330
    },
    "id": "RcC3TkeIJ_nb",
    "outputId": "0d6b54cb-7b71-4c43-9a85-bcbb7dcf38d8"
   },
   "outputs": [],
   "source": [
    "!wget https://bitbucket.org/ishaanjav/code-and-deploy-custom-tensorflow-lite-model/raw/a4febbfee178324b2083e322cdead7465d6fdf95/fruits.zip"
   ]
  },
  {
   "cell_type": "code",
   "execution_count": null,
   "metadata": {
    "colab": {
     "base_uri": "https://localhost:8080/"
    },
    "executionInfo": {
     "elapsed": 1260,
     "status": "ok",
     "timestamp": 1718426101005,
     "user": {
      "displayName": "Harsha Vardhan Challa",
      "userId": "10646618994917485248"
     },
     "user_tz": -330
    },
    "id": "XvD4fUnIKLhG",
    "outputId": "c56f1498-4843-4aea-93fc-adf4f2e7265f"
   },
   "outputs": [],
   "source": [
    "!unzip fruits.zip"
   ]
  },
  {
   "cell_type": "code",
   "execution_count": null,
   "metadata": {
    "colab": {
     "base_uri": "https://localhost:8080/"
    },
    "executionInfo": {
     "elapsed": 12471,
     "status": "ok",
     "timestamp": 1718426119740,
     "user": {
      "displayName": "Harsha Vardhan Challa",
      "userId": "10646618994917485248"
     },
     "user_tz": -330
    },
    "id": "jw5PpNjpKZAQ",
    "outputId": "df195f5d-4e06-4af9-be6a-81424fe437c9"
   },
   "outputs": [],
   "source": [
    "from google.colab import drive\n",
    "drive.mount('/content/drive')"
   ]
  },
  {
   "cell_type": "code",
   "execution_count": null,
   "metadata": {
    "executionInfo": {
     "elapsed": 3347,
     "status": "ok",
     "timestamp": 1718426135180,
     "user": {
      "displayName": "Harsha Vardhan Challa",
      "userId": "10646618994917485248"
     },
     "user_tz": -330
    },
    "id": "wtSYGX8YKjOG"
   },
   "outputs": [],
   "source": [
    "import tensorflow as tf\n",
    "import matplotlib.pyplot as plt"
   ]
  },
  {
   "cell_type": "code",
   "execution_count": null,
   "metadata": {
    "colab": {
     "base_uri": "https://localhost:8080/"
    },
    "executionInfo": {
     "elapsed": 3610,
     "status": "ok",
     "timestamp": 1718426145962,
     "user": {
      "displayName": "Harsha Vardhan Challa",
      "userId": "10646618994917485248"
     },
     "user_tz": -330
    },
    "id": "X8EVQns1Ldqd",
    "outputId": "78601495-1f69-463c-f4da-83587d9db438"
   },
   "outputs": [],
   "source": [
    "img_height, img_width = 32, 32\n",
    "batch_size = 20\n",
    "\n",
    "train_ds = tf.keras.utils.image_dataset_from_directory(\n",
    "    \"fruits/train\",\n",
    "    image_size = (img_height, img_width),\n",
    "    batch_size = batch_size\n",
    ")\n",
    "val_ds = tf.keras.utils.image_dataset_from_directory(\n",
    "    \"fruits/validation\",\n",
    "    image_size = (img_height, img_width),\n",
    "    batch_size = batch_size\n",
    ")\n",
    "test_ds = tf.keras.utils.image_dataset_from_directory(\n",
    "    \"fruits/test\",\n",
    "    image_size = (img_height, img_width),\n",
    "    batch_size = batch_size\n",
    ")"
   ]
  },
  {
   "cell_type": "code",
   "execution_count": null,
   "metadata": {
    "colab": {
     "base_uri": "https://localhost:8080/",
     "height": 677
    },
    "executionInfo": {
     "elapsed": 4328,
     "status": "ok",
     "timestamp": 1718426158741,
     "user": {
      "displayName": "Harsha Vardhan Challa",
      "userId": "10646618994917485248"
     },
     "user_tz": -330
    },
    "id": "HEwkoOd-LgPj",
    "outputId": "d319ed07-846d-4016-d41d-e9c2ef0f0549"
   },
   "outputs": [],
   "source": [
    "class_names = [\"apple\", \"banana\", \"orange\"]\n",
    "plt.figure(figsize=(10,10))\n",
    "for images, labels in train_ds.take(1):\n",
    "  for i in range(9):\n",
    "    ax = plt.subplot(3, 3, i + 1)\n",
    "    plt.imshow(images[i].numpy().astype(\"uint8\"))\n",
    "    plt.title(class_names[labels[i]])\n",
    "    plt.axis(\"off\")"
   ]
  },
  {
   "cell_type": "code",
   "execution_count": null,
   "metadata": {
    "executionInfo": {
     "elapsed": 499,
     "status": "ok",
     "timestamp": 1718426164734,
     "user": {
      "displayName": "Harsha Vardhan Challa",
      "userId": "10646618994917485248"
     },
     "user_tz": -330
    },
    "id": "fIRTagSsLjLy"
   },
   "outputs": [],
   "source": [
    "model = tf.keras.Sequential(\n",
    "    [\n",
    "     tf.keras.layers.Rescaling(1./255),\n",
    "     tf.keras.layers.Conv2D(32, 3, activation=\"relu\"),\n",
    "     tf.keras.layers.MaxPooling2D(),\n",
    "     tf.keras.layers.Conv2D(32, 3, activation=\"relu\"),\n",
    "     tf.keras.layers.MaxPooling2D(),\n",
    "     tf.keras.layers.Conv2D(32, 3, activation=\"relu\"),\n",
    "     tf.keras.layers.MaxPooling2D(),\n",
    "     tf.keras.layers.Flatten(),\n",
    "     tf.keras.layers.Dense(128, activation=\"relu\"),\n",
    "     tf.keras.layers.Dense(3)\n",
    "    ]\n",
    ")"
   ]
  },
  {
   "cell_type": "code",
   "execution_count": null,
   "metadata": {
    "executionInfo": {
     "elapsed": 502,
     "status": "ok",
     "timestamp": 1718426183895,
     "user": {
      "displayName": "Harsha Vardhan Challa",
      "userId": "10646618994917485248"
     },
     "user_tz": -330
    },
    "id": "WpmRwggnLljf"
   },
   "outputs": [],
   "source": [
    "model.compile(\n",
    "    optimizer=\"adam\",\n",
    "    loss=tf.losses.SparseCategoricalCrossentropy(from_logits = True),\n",
    "    metrics=['accuracy']\n",
    ")"
   ]
  },
  {
   "cell_type": "code",
   "execution_count": null,
   "metadata": {
    "colab": {
     "base_uri": "https://localhost:8080/"
    },
    "executionInfo": {
     "elapsed": 30172,
     "status": "ok",
     "timestamp": 1718426221935,
     "user": {
      "displayName": "Harsha Vardhan Challa",
      "userId": "10646618994917485248"
     },
     "user_tz": -330
    },
    "id": "NDS7bTc-LqPS",
    "outputId": "0a4bd38b-3905-4e5f-8a6e-d955bb61cf1a"
   },
   "outputs": [],
   "source": [
    "model.fit(\n",
    "    train_ds,\n",
    "    validation_data = val_ds,\n",
    "    epochs = 10\n",
    ")"
   ]
  },
  {
   "cell_type": "code",
   "execution_count": null,
   "metadata": {
    "colab": {
     "base_uri": "https://localhost:8080/"
    },
    "executionInfo": {
     "elapsed": 740,
     "status": "ok",
     "timestamp": 1718426222664,
     "user": {
      "displayName": "Harsha Vardhan Challa",
      "userId": "10646618994917485248"
     },
     "user_tz": -330
    },
    "id": "Gd4H64nuLsTX",
    "outputId": "441666dd-6644-4f7d-9da0-227df983a109"
   },
   "outputs": [],
   "source": [
    "model.evaluate(test_ds)"
   ]
  },
  {
   "cell_type": "code",
   "execution_count": null,
   "metadata": {
    "colab": {
     "base_uri": "https://localhost:8080/",
     "height": 673
    },
    "executionInfo": {
     "elapsed": 5163,
     "status": "ok",
     "timestamp": 1718426230789,
     "user": {
      "displayName": "Harsha Vardhan Challa",
      "userId": "10646618994917485248"
     },
     "user_tz": -330
    },
    "id": "6PCPQxDkLt6s",
    "outputId": "58743550-ead3-4971-ece1-615c871017ea"
   },
   "outputs": [],
   "source": [
    "import numpy\n",
    "\n",
    "plt.figure(figsize=(10,10))\n",
    "for images, labels in test_ds.take(1):\n",
    "  classifications = model(images)\n",
    "  # print(classifications)\n",
    "\n",
    "  for i in range(9):\n",
    "    ax = plt.subplot(3, 3, i + 1)\n",
    "    plt.imshow(images[i].numpy().astype(\"uint8\"))\n",
    "    index = numpy.argmax(classifications[i])\n",
    "    plt.title(\"Pred: \" + class_names[index] + \" | Real: \" + class_names[labels[i]])"
   ]
  },
  {
   "cell_type": "code",
   "execution_count": null,
   "metadata": {
    "executionInfo": {
     "elapsed": 3676,
     "status": "ok",
     "timestamp": 1718426237457,
     "user": {
      "displayName": "Harsha Vardhan Challa",
      "userId": "10646618994917485248"
     },
     "user_tz": -330
    },
    "id": "IYespdPZL0kf"
   },
   "outputs": [],
   "source": [
    "converter = tf.lite.TFLiteConverter.from_keras_model(model)\n",
    "tflite_model = converter.convert()\n",
    "\n",
    "with open(\"model.tflite\", 'wb') as f:\n",
    "  f.write(tflite_model)"
   ]
  },
  {
   "cell_type": "code",
   "execution_count": null,
   "metadata": {
    "id": "hCmMDL5sL2iT"
   },
   "outputs": [],
   "source": []
  }
 ],
 "metadata": {
  "accelerator": "GPU",
  "colab": {
   "authorship_tag": "ABX9TyNLO1k2ca/cJVr+nPyhMkKd",
   "gpuType": "T4",
   "mount_file_id": "1p5lGrT3AkTaeMXeQugm28B6Z6IHNmiGO",
   "provenance": []
  },
  "kernelspec": {
   "display_name": "Python 3 (ipykernel)",
   "language": "python",
   "name": "python3"
  },
  "language_info": {
   "codemirror_mode": {
    "name": "ipython",
    "version": 3
   },
   "file_extension": ".py",
   "mimetype": "text/x-python",
   "name": "python",
   "nbconvert_exporter": "python",
   "pygments_lexer": "ipython3",
   "version": "3.11.7"
  }
 },
 "nbformat": 4,
 "nbformat_minor": 4
}
